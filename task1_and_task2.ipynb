{
 "cells": [
  {
   "cell_type": "code",
   "execution_count": 1,
   "id": "6b894d82",
   "metadata": {
    "ExecuteTime": {
     "end_time": "2022-06-04T17:24:38.211604Z",
     "start_time": "2022-06-04T17:24:37.819384Z"
    }
   },
   "outputs": [],
   "source": [
    "import pandas as pd\n",
    "import numpy as np\n",
    "import csv"
   ]
  },
  {
   "cell_type": "code",
   "execution_count": 28,
   "id": "e72b186f",
   "metadata": {
    "ExecuteTime": {
     "end_time": "2022-06-04T18:04:33.419450Z",
     "start_time": "2022-06-04T18:04:33.366592Z"
    }
   },
   "outputs": [
    {
     "data": {
      "text/html": [
       "<div>\n",
       "<style scoped>\n",
       "    .dataframe tbody tr th:only-of-type {\n",
       "        vertical-align: middle;\n",
       "    }\n",
       "\n",
       "    .dataframe tbody tr th {\n",
       "        vertical-align: top;\n",
       "    }\n",
       "\n",
       "    .dataframe thead th {\n",
       "        text-align: right;\n",
       "    }\n",
       "</style>\n",
       "<table border=\"1\" class=\"dataframe\">\n",
       "  <thead>\n",
       "    <tr style=\"text-align: right;\">\n",
       "      <th></th>\n",
       "      <th>用户编号</th>\n",
       "      <th>缴费日期</th>\n",
       "      <th>缴费金额（元）</th>\n",
       "    </tr>\n",
       "  </thead>\n",
       "  <tbody>\n",
       "    <tr>\n",
       "      <th>0</th>\n",
       "      <td>1000000001</td>\n",
       "      <td>2018-03-01</td>\n",
       "      <td>101</td>\n",
       "    </tr>\n",
       "    <tr>\n",
       "      <th>1</th>\n",
       "      <td>1000000001</td>\n",
       "      <td>2018-05-03</td>\n",
       "      <td>80</td>\n",
       "    </tr>\n",
       "    <tr>\n",
       "      <th>2</th>\n",
       "      <td>1000000001</td>\n",
       "      <td>2018-07-02</td>\n",
       "      <td>150</td>\n",
       "    </tr>\n",
       "    <tr>\n",
       "      <th>3</th>\n",
       "      <td>1000000001</td>\n",
       "      <td>2018-08-02</td>\n",
       "      <td>200</td>\n",
       "    </tr>\n",
       "    <tr>\n",
       "      <th>4</th>\n",
       "      <td>1000000001</td>\n",
       "      <td>2018-09-05</td>\n",
       "      <td>220</td>\n",
       "    </tr>\n",
       "    <tr>\n",
       "      <th>...</th>\n",
       "      <td>...</td>\n",
       "      <td>...</td>\n",
       "      <td>...</td>\n",
       "    </tr>\n",
       "    <tr>\n",
       "      <th>659</th>\n",
       "      <td>1000000100</td>\n",
       "      <td>2018-07-02</td>\n",
       "      <td>105</td>\n",
       "    </tr>\n",
       "    <tr>\n",
       "      <th>660</th>\n",
       "      <td>1000000100</td>\n",
       "      <td>2018-09-05</td>\n",
       "      <td>151</td>\n",
       "    </tr>\n",
       "    <tr>\n",
       "      <th>661</th>\n",
       "      <td>1000000100</td>\n",
       "      <td>2018-11-07</td>\n",
       "      <td>111</td>\n",
       "    </tr>\n",
       "    <tr>\n",
       "      <th>662</th>\n",
       "      <td>1000000100</td>\n",
       "      <td>2019-01-04</td>\n",
       "      <td>146</td>\n",
       "    </tr>\n",
       "    <tr>\n",
       "      <th>663</th>\n",
       "      <td>1000000100</td>\n",
       "      <td>2019-03-04</td>\n",
       "      <td>147</td>\n",
       "    </tr>\n",
       "  </tbody>\n",
       "</table>\n",
       "<p>664 rows × 3 columns</p>\n",
       "</div>"
      ],
      "text/plain": [
       "           用户编号       缴费日期  缴费金额（元）\n",
       "0    1000000001 2018-03-01      101\n",
       "1    1000000001 2018-05-03       80\n",
       "2    1000000001 2018-07-02      150\n",
       "3    1000000001 2018-08-02      200\n",
       "4    1000000001 2018-09-05      220\n",
       "..          ...        ...      ...\n",
       "659  1000000100 2018-07-02      105\n",
       "660  1000000100 2018-09-05      151\n",
       "661  1000000100 2018-11-07      111\n",
       "662  1000000100 2019-01-04      146\n",
       "663  1000000100 2019-03-04      147\n",
       "\n",
       "[664 rows x 3 columns]"
      ]
     },
     "execution_count": 28,
     "metadata": {},
     "output_type": "execute_result"
    }
   ],
   "source": [
    "data_user = pd.read_excel('testfile/cph.xlsx',header=0)\n",
    "data_user"
   ]
  },
  {
   "cell_type": "code",
   "execution_count": 38,
   "id": "9461df60",
   "metadata": {
    "ExecuteTime": {
     "end_time": "2022-06-04T18:19:54.424903Z",
     "start_time": "2022-06-04T18:19:54.413453Z"
    },
    "scrolled": false
   },
   "outputs": [
    {
     "data": {
      "text/html": [
       "<div>\n",
       "<style scoped>\n",
       "    .dataframe tbody tr th:only-of-type {\n",
       "        vertical-align: middle;\n",
       "    }\n",
       "\n",
       "    .dataframe tbody tr th {\n",
       "        vertical-align: top;\n",
       "    }\n",
       "\n",
       "    .dataframe thead th {\n",
       "        text-align: right;\n",
       "    }\n",
       "</style>\n",
       "<table border=\"1\" class=\"dataframe\">\n",
       "  <thead>\n",
       "    <tr style=\"text-align: right;\">\n",
       "      <th></th>\n",
       "      <th>用户编号</th>\n",
       "      <th>缴费次数</th>\n",
       "      <th>缴费总金额</th>\n",
       "    </tr>\n",
       "  </thead>\n",
       "  <tbody>\n",
       "    <tr>\n",
       "      <th>0</th>\n",
       "      <td>1000000001</td>\n",
       "      <td>8</td>\n",
       "      <td>987</td>\n",
       "    </tr>\n",
       "    <tr>\n",
       "      <th>1</th>\n",
       "      <td>1000000002</td>\n",
       "      <td>7</td>\n",
       "      <td>490</td>\n",
       "    </tr>\n",
       "    <tr>\n",
       "      <th>2</th>\n",
       "      <td>1000000003</td>\n",
       "      <td>7</td>\n",
       "      <td>1180</td>\n",
       "    </tr>\n",
       "    <tr>\n",
       "      <th>3</th>\n",
       "      <td>1000000004</td>\n",
       "      <td>8</td>\n",
       "      <td>621</td>\n",
       "    </tr>\n",
       "    <tr>\n",
       "      <th>4</th>\n",
       "      <td>1000000005</td>\n",
       "      <td>7</td>\n",
       "      <td>1500</td>\n",
       "    </tr>\n",
       "    <tr>\n",
       "      <th>...</th>\n",
       "      <td>...</td>\n",
       "      <td>...</td>\n",
       "      <td>...</td>\n",
       "    </tr>\n",
       "    <tr>\n",
       "      <th>95</th>\n",
       "      <td>1000000096</td>\n",
       "      <td>7</td>\n",
       "      <td>916</td>\n",
       "    </tr>\n",
       "    <tr>\n",
       "      <th>96</th>\n",
       "      <td>1000000097</td>\n",
       "      <td>6</td>\n",
       "      <td>649</td>\n",
       "    </tr>\n",
       "    <tr>\n",
       "      <th>97</th>\n",
       "      <td>1000000098</td>\n",
       "      <td>6</td>\n",
       "      <td>735</td>\n",
       "    </tr>\n",
       "    <tr>\n",
       "      <th>98</th>\n",
       "      <td>1000000099</td>\n",
       "      <td>6</td>\n",
       "      <td>853</td>\n",
       "    </tr>\n",
       "    <tr>\n",
       "      <th>99</th>\n",
       "      <td>1000000100</td>\n",
       "      <td>7</td>\n",
       "      <td>943</td>\n",
       "    </tr>\n",
       "  </tbody>\n",
       "</table>\n",
       "<p>100 rows × 3 columns</p>\n",
       "</div>"
      ],
      "text/plain": [
       "          用户编号  缴费次数  缴费总金额\n",
       "0   1000000001     8    987\n",
       "1   1000000002     7    490\n",
       "2   1000000003     7   1180\n",
       "3   1000000004     8    621\n",
       "4   1000000005     7   1500\n",
       "..         ...   ...    ...\n",
       "95  1000000096     7    916\n",
       "96  1000000097     6    649\n",
       "97  1000000098     6    735\n",
       "98  1000000099     6    853\n",
       "99  1000000100     7    943\n",
       "\n",
       "[100 rows x 3 columns]"
      ]
     },
     "execution_count": 38,
     "metadata": {},
     "output_type": "execute_result"
    }
   ],
   "source": [
    "groupby_usernumber = data_user.groupby(data_user['用户编号'], as_index=False).agg({\n",
    "    '缴费日期': 'count', '缴费金额（元）': 'sum'})  # 按用户编号分组,统计缴费次数和缴费总金额\n",
    "groupby_usernumber.rename(\n",
    "    columns={'缴费日期': '缴费次数', '缴费金额（元）': '缴费总金额'}, inplace=True)\n",
    "groupby_usernumber"
   ]
  },
  {
   "cell_type": "code",
   "execution_count": 45,
   "id": "7975974c",
   "metadata": {
    "ExecuteTime": {
     "end_time": "2022-06-04T18:23:41.497740Z",
     "start_time": "2022-06-04T18:23:41.489824Z"
    }
   },
   "outputs": [
    {
     "name": "stdout",
     "output_type": "stream",
     "text": [
      "平均缴费金额705.24\n",
      "平均缴费次数6.64\n"
     ]
    }
   ],
   "source": [
    "num_user = user_paynum.shape[0]\n",
    "ave_pay = sum(groupby_usernumber['缴费总金额'])/num_user  # 所有用户年平均缴费金额\n",
    "ave_num = sum(groupby_usernumber['缴费次数'])/num_user  # 所有用户年平均缴费次数\n",
    "print('平均缴费金额{}\\n平均缴费次数{}'.format(ave_pay, ave_num))\n",
    "\n",
    "# 输出csv文件\n",
    "# with open('outputfile/居民客户的用电缴费习惯分析 1.csv','w',newline='') as outputfile0:\n",
    "#     input0 = csv.writer(outputfile0)\n",
    "#     input0.writerow(['平均缴费金额','平均缴费次数'])\n",
    "#     input0.writerow([ave_pay,ave_num])"
   ]
  },
  {
   "cell_type": "code",
   "execution_count": 47,
   "id": "12ce24ec",
   "metadata": {
    "ExecuteTime": {
     "end_time": "2022-06-04T18:29:07.016697Z",
     "start_time": "2022-06-04T18:29:07.012786Z"
    }
   },
   "outputs": [],
   "source": [
    "use_type = ['高价值型客户', '潜力型客户', '大众型客户', '低价值型客户']\n",
    "\n",
    "# 输出csv文件\n",
    "# with open('outputfile/居民客户的用电缴费习惯分析 2.csv', 'w', newline='') as outputfile1:\n",
    "#     input1 = csv.writer(outputfile1)\n",
    "#     input1.writerow(['用户编号', '客户类型'])\n",
    "#     for i in range(num_user):\n",
    "#         if groupby_usernumber.iloc[i, 2] > ave_pay and groupby_usernumber.iloc[i, 1] > ave_num:\n",
    "#             input1.writerow([groupby_usernumber.iloc[i, 0], use_type[0]])\n",
    "#         elif groupby_usernumber.iloc[i, 2] > ave_pay and groupby_usernumber.iloc[i, 1] < ave_num:\n",
    "#             input1.writerow([groupby_usernumber.iloc[i, 0], use_type[1]])\n",
    "#         elif groupby_usernumber.iloc[i, 2] < ave_pay and groupby_usernumber.iloc[i, 1] > ave_num:\n",
    "#             input1.writerow([groupby_usernumber.iloc[i, 0], use_type[2]])\n",
    "#         else: # groupby_usernumber.iloc[i,2]<ave_pay and groupby_usernumber.iloc[i,1]<ave_num:\n",
    "#             input1.writerow([groupby_usernumber.iloc[i, 0], use_type[3]])"
   ]
  }
 ],
 "metadata": {
  "kernelspec": {
   "display_name": "Python 3 (ipykernel)",
   "language": "python",
   "name": "python3"
  },
  "language_info": {
   "codemirror_mode": {
    "name": "ipython",
    "version": 3
   },
   "file_extension": ".py",
   "mimetype": "text/x-python",
   "name": "python",
   "nbconvert_exporter": "python",
   "pygments_lexer": "ipython3",
   "version": "3.9.7"
  },
  "varInspector": {
   "cols": {
    "lenName": 16,
    "lenType": 16,
    "lenVar": 40
   },
   "kernels_config": {
    "python": {
     "delete_cmd_postfix": "",
     "delete_cmd_prefix": "del ",
     "library": "var_list.py",
     "varRefreshCmd": "print(var_dic_list())"
    },
    "r": {
     "delete_cmd_postfix": ") ",
     "delete_cmd_prefix": "rm(",
     "library": "var_list.r",
     "varRefreshCmd": "cat(var_dic_list()) "
    }
   },
   "types_to_exclude": [
    "module",
    "function",
    "builtin_function_or_method",
    "instance",
    "_Feature"
   ],
   "window_display": false
  }
 },
 "nbformat": 4,
 "nbformat_minor": 5
}
