{
 "cells": [
  {
   "cell_type": "code",
   "execution_count": 1,
   "id": "a8fd2ce2",
   "metadata": {
    "ExecuteTime": {
     "end_time": "2022-07-06T08:59:54.729937Z",
     "start_time": "2022-07-06T08:59:54.207624Z"
    }
   },
   "outputs": [],
   "source": [
    "import pandas as pd\n",
    "import numpy as np\n",
    "\n",
    "import matplotlib.pyplot as plt\n",
    "%matplotlib inline\n",
    "\n",
    "import warnings\n",
    "\n",
    "warnings.filterwarnings(\"ignore\")\n",
    "\n",
    "# 用来正常显示中文标签\n",
    "plt.rcParams['font.sans-serif'] = ['SimHei']\n",
    "# 用来正常显示负号\n",
    "plt.rcParams['axes.unicode_minus'] = False"
   ]
  },
  {
   "cell_type": "code",
   "execution_count": 2,
   "id": "310a4f0f",
   "metadata": {
    "ExecuteTime": {
     "end_time": "2022-07-06T08:59:54.954024Z",
     "start_time": "2022-07-06T08:59:54.732520Z"
    }
   },
   "outputs": [
    {
     "data": {
      "text/html": [
       "<div>\n",
       "<style scoped>\n",
       "    .dataframe tbody tr th:only-of-type {\n",
       "        vertical-align: middle;\n",
       "    }\n",
       "\n",
       "    .dataframe tbody tr th {\n",
       "        vertical-align: top;\n",
       "    }\n",
       "\n",
       "    .dataframe thead th {\n",
       "        text-align: right;\n",
       "    }\n",
       "</style>\n",
       "<table border=\"1\" class=\"dataframe\">\n",
       "  <thead>\n",
       "    <tr style=\"text-align: right;\">\n",
       "      <th></th>\n",
       "      <th>用户编号</th>\n",
       "      <th>缴费日期</th>\n",
       "      <th>缴费金额（元）</th>\n",
       "    </tr>\n",
       "  </thead>\n",
       "  <tbody>\n",
       "    <tr>\n",
       "      <th>0</th>\n",
       "      <td>1000000001</td>\n",
       "      <td>2018-03-01</td>\n",
       "      <td>101</td>\n",
       "    </tr>\n",
       "    <tr>\n",
       "      <th>1</th>\n",
       "      <td>1000000001</td>\n",
       "      <td>2018-05-03</td>\n",
       "      <td>80</td>\n",
       "    </tr>\n",
       "    <tr>\n",
       "      <th>2</th>\n",
       "      <td>1000000001</td>\n",
       "      <td>2018-07-02</td>\n",
       "      <td>150</td>\n",
       "    </tr>\n",
       "    <tr>\n",
       "      <th>3</th>\n",
       "      <td>1000000001</td>\n",
       "      <td>2018-08-02</td>\n",
       "      <td>200</td>\n",
       "    </tr>\n",
       "    <tr>\n",
       "      <th>4</th>\n",
       "      <td>1000000001</td>\n",
       "      <td>2018-09-05</td>\n",
       "      <td>220</td>\n",
       "    </tr>\n",
       "  </tbody>\n",
       "</table>\n",
       "</div>"
      ],
      "text/plain": [
       "         用户编号       缴费日期  缴费金额（元）\n",
       "0  1000000001 2018-03-01      101\n",
       "1  1000000001 2018-05-03       80\n",
       "2  1000000001 2018-07-02      150\n",
       "3  1000000001 2018-08-02      200\n",
       "4  1000000001 2018-09-05      220"
      ]
     },
     "execution_count": 2,
     "metadata": {},
     "output_type": "execute_result"
    }
   ],
   "source": [
    "data_user = pd.read_excel('inputfile/cph.xlsx', header=0)\n",
    "data_user['缴费日期'] = pd.to_datetime(data_user['缴费日期']) # 确保'缴费日期'为日期格式\n",
    "data_user.head()"
   ]
  },
  {
   "cell_type": "markdown",
   "id": "3fad6377",
   "metadata": {},
   "source": [
    "### 数据预处理"
   ]
  },
  {
   "cell_type": "code",
   "execution_count": 3,
   "id": "135bbadd",
   "metadata": {
    "ExecuteTime": {
     "end_time": "2022-07-06T08:59:54.971102Z",
     "start_time": "2022-07-06T08:59:54.956009Z"
    },
    "scrolled": true
   },
   "outputs": [
    {
     "data": {
      "text/html": [
       "<div>\n",
       "<style scoped>\n",
       "    .dataframe tbody tr th:only-of-type {\n",
       "        vertical-align: middle;\n",
       "    }\n",
       "\n",
       "    .dataframe tbody tr th {\n",
       "        vertical-align: top;\n",
       "    }\n",
       "\n",
       "    .dataframe thead th {\n",
       "        text-align: right;\n",
       "    }\n",
       "</style>\n",
       "<table border=\"1\" class=\"dataframe\">\n",
       "  <thead>\n",
       "    <tr style=\"text-align: right;\">\n",
       "      <th></th>\n",
       "      <th>用户编号</th>\n",
       "      <th>缴费次数</th>\n",
       "      <th>缴费总金额</th>\n",
       "    </tr>\n",
       "  </thead>\n",
       "  <tbody>\n",
       "    <tr>\n",
       "      <th>0</th>\n",
       "      <td>1000000001</td>\n",
       "      <td>8</td>\n",
       "      <td>987</td>\n",
       "    </tr>\n",
       "    <tr>\n",
       "      <th>1</th>\n",
       "      <td>1000000002</td>\n",
       "      <td>7</td>\n",
       "      <td>490</td>\n",
       "    </tr>\n",
       "    <tr>\n",
       "      <th>2</th>\n",
       "      <td>1000000003</td>\n",
       "      <td>7</td>\n",
       "      <td>1180</td>\n",
       "    </tr>\n",
       "    <tr>\n",
       "      <th>3</th>\n",
       "      <td>1000000004</td>\n",
       "      <td>8</td>\n",
       "      <td>621</td>\n",
       "    </tr>\n",
       "    <tr>\n",
       "      <th>4</th>\n",
       "      <td>1000000005</td>\n",
       "      <td>7</td>\n",
       "      <td>1500</td>\n",
       "    </tr>\n",
       "  </tbody>\n",
       "</table>\n",
       "</div>"
      ],
      "text/plain": [
       "         用户编号  缴费次数  缴费总金额\n",
       "0  1000000001     8    987\n",
       "1  1000000002     7    490\n",
       "2  1000000003     7   1180\n",
       "3  1000000004     8    621\n",
       "4  1000000005     7   1500"
      ]
     },
     "execution_count": 3,
     "metadata": {},
     "output_type": "execute_result"
    }
   ],
   "source": [
    "groupby_usernumber = data_user.groupby(data_user['用户编号'], as_index=False).agg({\n",
    "    '缴费日期': 'count', '缴费金额（元）': 'sum'})  # 按用户编号分组,统计缴费次数和缴费总金额\n",
    "groupby_usernumber.rename(\n",
    "    columns={'缴费日期': '缴费次数', '缴费金额（元）': '缴费总金额'}, inplace=True)\n",
    "groupby_usernumber.head()"
   ]
  },
  {
   "cell_type": "code",
   "execution_count": 4,
   "id": "dad72135",
   "metadata": {
    "ExecuteTime": {
     "end_time": "2022-07-06T08:59:55.336260Z",
     "start_time": "2022-07-06T08:59:54.973675Z"
    }
   },
   "outputs": [],
   "source": [
    "sum_time = []# 每个用户缴费总时间间隔\n",
    "max_time = []# 缴费最长时间间隔\n",
    "min_time = []# 缴费最短时间间隔\n",
    "stime=0\n",
    "maxtime=0\n",
    "mintime=365\n",
    "\n",
    "for i in range(1,data_user.shape[0]):\n",
    "    if data_user.iloc[i,0]==data_user.iloc[i-1,0]:# 当前记录与前一个记录是同一个用户\n",
    "        stime+=(data_user.iloc[i,1]-data_user.iloc[i-1,1]).days\n",
    "        if (data_user.iloc[i,1]-data_user.iloc[i-1,1]).days>maxtime:\n",
    "            maxtime = (data_user.iloc[i,1]-data_user.iloc[i-1,1]).days\n",
    "        if (data_user.iloc[i,1]-data_user.iloc[i-1,1]).days<mintime:\n",
    "            mintime = (data_user.iloc[i,1]-data_user.iloc[i-1,1]).days\n",
    "\n",
    "    else:\n",
    "        sum_time.append(stime)\n",
    "        max_time.append(maxtime)\n",
    "        min_time.append(mintime)\n",
    "        stime=0\n",
    "        maxtime=0\n",
    "        mintime=365\n",
    "    if i==data_user.shape[0]-1:\n",
    "        sum_time.append(stime)\n",
    "        max_time.append(maxtime)\n",
    "        min_time.append(mintime)\n",
    "        \n",
    "groupby_usernumber.insert(loc=len(groupby_usernumber.columns), column='缴费总天数', value=sum_time)\n",
    "groupby_usernumber.insert(loc=len(groupby_usernumber.columns), column='缴费最长时间间隔', value=max_time)\n",
    "groupby_usernumber.insert(loc=len(groupby_usernumber.columns), column='缴费最短时间间隔', value=min_time)\n"
   ]
  },
  {
   "cell_type": "code",
   "execution_count": 5,
   "id": "bde7143f",
   "metadata": {
    "ExecuteTime": {
     "end_time": "2022-07-06T08:59:55.348404Z",
     "start_time": "2022-07-06T08:59:55.337911Z"
    },
    "scrolled": true
   },
   "outputs": [
    {
     "data": {
      "text/html": [
       "<div>\n",
       "<style scoped>\n",
       "    .dataframe tbody tr th:only-of-type {\n",
       "        vertical-align: middle;\n",
       "    }\n",
       "\n",
       "    .dataframe tbody tr th {\n",
       "        vertical-align: top;\n",
       "    }\n",
       "\n",
       "    .dataframe thead th {\n",
       "        text-align: right;\n",
       "    }\n",
       "</style>\n",
       "<table border=\"1\" class=\"dataframe\">\n",
       "  <thead>\n",
       "    <tr style=\"text-align: right;\">\n",
       "      <th></th>\n",
       "      <th>用户编号</th>\n",
       "      <th>缴费次数</th>\n",
       "      <th>缴费总金额</th>\n",
       "      <th>缴费总天数</th>\n",
       "      <th>缴费最长时间间隔</th>\n",
       "      <th>缴费最短时间间隔</th>\n",
       "    </tr>\n",
       "  </thead>\n",
       "  <tbody>\n",
       "    <tr>\n",
       "      <th>0</th>\n",
       "      <td>1000000001</td>\n",
       "      <td>8</td>\n",
       "      <td>987</td>\n",
       "      <td>369</td>\n",
       "      <td>64</td>\n",
       "      <td>31</td>\n",
       "    </tr>\n",
       "    <tr>\n",
       "      <th>1</th>\n",
       "      <td>1000000002</td>\n",
       "      <td>7</td>\n",
       "      <td>490</td>\n",
       "      <td>368</td>\n",
       "      <td>68</td>\n",
       "      <td>55</td>\n",
       "    </tr>\n",
       "    <tr>\n",
       "      <th>2</th>\n",
       "      <td>1000000003</td>\n",
       "      <td>7</td>\n",
       "      <td>1180</td>\n",
       "      <td>369</td>\n",
       "      <td>65</td>\n",
       "      <td>59</td>\n",
       "    </tr>\n",
       "    <tr>\n",
       "      <th>3</th>\n",
       "      <td>1000000004</td>\n",
       "      <td>8</td>\n",
       "      <td>621</td>\n",
       "      <td>366</td>\n",
       "      <td>65</td>\n",
       "      <td>26</td>\n",
       "    </tr>\n",
       "    <tr>\n",
       "      <th>4</th>\n",
       "      <td>1000000005</td>\n",
       "      <td>7</td>\n",
       "      <td>1500</td>\n",
       "      <td>367</td>\n",
       "      <td>65</td>\n",
       "      <td>59</td>\n",
       "    </tr>\n",
       "  </tbody>\n",
       "</table>\n",
       "</div>"
      ],
      "text/plain": [
       "         用户编号  缴费次数  缴费总金额  缴费总天数  缴费最长时间间隔  缴费最短时间间隔\n",
       "0  1000000001     8    987    369        64        31\n",
       "1  1000000002     7    490    368        68        55\n",
       "2  1000000003     7   1180    369        65        59\n",
       "3  1000000004     8    621    366        65        26\n",
       "4  1000000005     7   1500    367        65        59"
      ]
     },
     "execution_count": 5,
     "metadata": {},
     "output_type": "execute_result"
    }
   ],
   "source": [
    "groupby_usernumber.head()"
   ]
  },
  {
   "cell_type": "code",
   "execution_count": 6,
   "id": "f79898b2",
   "metadata": {
    "ExecuteTime": {
     "end_time": "2022-07-06T08:59:55.363283Z",
     "start_time": "2022-07-06T08:59:55.350829Z"
    }
   },
   "outputs": [],
   "source": [
    "# 极小型指标正向化\n",
    "time_day = max(groupby_usernumber['缴费总天数']/(groupby_usernumber['缴费次数']-1))-groupby_usernumber['缴费总天数']/(groupby_usernumber['缴费次数']-1)\n",
    "long_day = max(groupby_usernumber['缴费最长时间间隔'])-groupby_usernumber['缴费最长时间间隔']\n",
    "short_day = max(groupby_usernumber['缴费最短时间间隔'])-groupby_usernumber['缴费最短时间间隔']\n",
    "\n",
    "# 插入datafream\n",
    "groupby_usernumber.insert(loc=len(groupby_usernumber.columns), column='平均缴费间隔正向化', value=time_day)\n",
    "groupby_usernumber.insert(loc=len(groupby_usernumber.columns), column='缴费最长时间间隔正向化', value=long_day)\n",
    "groupby_usernumber.insert(loc=len(groupby_usernumber.columns), column='缴费最短时间间隔正向化', value=short_day)"
   ]
  },
  {
   "cell_type": "code",
   "execution_count": 7,
   "id": "dd841e2a",
   "metadata": {
    "ExecuteTime": {
     "end_time": "2022-07-06T08:59:55.378125Z",
     "start_time": "2022-07-06T08:59:55.365646Z"
    },
    "scrolled": false
   },
   "outputs": [
    {
     "data": {
      "text/html": [
       "<div>\n",
       "<style scoped>\n",
       "    .dataframe tbody tr th:only-of-type {\n",
       "        vertical-align: middle;\n",
       "    }\n",
       "\n",
       "    .dataframe tbody tr th {\n",
       "        vertical-align: top;\n",
       "    }\n",
       "\n",
       "    .dataframe thead th {\n",
       "        text-align: right;\n",
       "    }\n",
       "</style>\n",
       "<table border=\"1\" class=\"dataframe\">\n",
       "  <thead>\n",
       "    <tr style=\"text-align: right;\">\n",
       "      <th></th>\n",
       "      <th>用户编号</th>\n",
       "      <th>缴费次数</th>\n",
       "      <th>缴费总金额</th>\n",
       "      <th>缴费总天数</th>\n",
       "      <th>缴费最长时间间隔</th>\n",
       "      <th>缴费最短时间间隔</th>\n",
       "      <th>平均缴费间隔正向化</th>\n",
       "      <th>缴费最长时间间隔正向化</th>\n",
       "      <th>缴费最短时间间隔正向化</th>\n",
       "    </tr>\n",
       "  </thead>\n",
       "  <tbody>\n",
       "    <tr>\n",
       "      <th>0</th>\n",
       "      <td>1000000001</td>\n",
       "      <td>8</td>\n",
       "      <td>987</td>\n",
       "      <td>369</td>\n",
       "      <td>64</td>\n",
       "      <td>31</td>\n",
       "      <td>69.952381</td>\n",
       "      <td>187</td>\n",
       "      <td>29</td>\n",
       "    </tr>\n",
       "    <tr>\n",
       "      <th>1</th>\n",
       "      <td>1000000002</td>\n",
       "      <td>7</td>\n",
       "      <td>490</td>\n",
       "      <td>368</td>\n",
       "      <td>68</td>\n",
       "      <td>55</td>\n",
       "      <td>61.333333</td>\n",
       "      <td>183</td>\n",
       "      <td>5</td>\n",
       "    </tr>\n",
       "    <tr>\n",
       "      <th>2</th>\n",
       "      <td>1000000003</td>\n",
       "      <td>7</td>\n",
       "      <td>1180</td>\n",
       "      <td>369</td>\n",
       "      <td>65</td>\n",
       "      <td>59</td>\n",
       "      <td>61.166667</td>\n",
       "      <td>186</td>\n",
       "      <td>1</td>\n",
       "    </tr>\n",
       "    <tr>\n",
       "      <th>3</th>\n",
       "      <td>1000000004</td>\n",
       "      <td>8</td>\n",
       "      <td>621</td>\n",
       "      <td>366</td>\n",
       "      <td>65</td>\n",
       "      <td>26</td>\n",
       "      <td>70.380952</td>\n",
       "      <td>186</td>\n",
       "      <td>34</td>\n",
       "    </tr>\n",
       "    <tr>\n",
       "      <th>4</th>\n",
       "      <td>1000000005</td>\n",
       "      <td>7</td>\n",
       "      <td>1500</td>\n",
       "      <td>367</td>\n",
       "      <td>65</td>\n",
       "      <td>59</td>\n",
       "      <td>61.500000</td>\n",
       "      <td>186</td>\n",
       "      <td>1</td>\n",
       "    </tr>\n",
       "  </tbody>\n",
       "</table>\n",
       "</div>"
      ],
      "text/plain": [
       "         用户编号  缴费次数  缴费总金额  缴费总天数  缴费最长时间间隔  缴费最短时间间隔  平均缴费间隔正向化  缴费最长时间间隔正向化  \\\n",
       "0  1000000001     8    987    369        64        31  69.952381          187   \n",
       "1  1000000002     7    490    368        68        55  61.333333          183   \n",
       "2  1000000003     7   1180    369        65        59  61.166667          186   \n",
       "3  1000000004     8    621    366        65        26  70.380952          186   \n",
       "4  1000000005     7   1500    367        65        59  61.500000          186   \n",
       "\n",
       "   缴费最短时间间隔正向化  \n",
       "0           29  \n",
       "1            5  \n",
       "2            1  \n",
       "3           34  \n",
       "4            1  "
      ]
     },
     "execution_count": 7,
     "metadata": {},
     "output_type": "execute_result"
    }
   ],
   "source": [
    "groupby_usernumber.head()"
   ]
  },
  {
   "cell_type": "code",
   "execution_count": 8,
   "id": "d3866930",
   "metadata": {
    "ExecuteTime": {
     "end_time": "2022-07-06T08:59:55.903969Z",
     "start_time": "2022-07-06T08:59:55.380764Z"
    }
   },
   "outputs": [
    {
     "data": {
      "text/html": [
       "<div>\n",
       "<style scoped>\n",
       "    .dataframe tbody tr th:only-of-type {\n",
       "        vertical-align: middle;\n",
       "    }\n",
       "\n",
       "    .dataframe tbody tr th {\n",
       "        vertical-align: top;\n",
       "    }\n",
       "\n",
       "    .dataframe thead th {\n",
       "        text-align: right;\n",
       "    }\n",
       "</style>\n",
       "<table border=\"1\" class=\"dataframe\">\n",
       "  <thead>\n",
       "    <tr style=\"text-align: right;\">\n",
       "      <th></th>\n",
       "      <th>缴费次数</th>\n",
       "      <th>缴费总金额</th>\n",
       "      <th>平均缴费间隔正向化</th>\n",
       "      <th>缴费最长时间间隔正向化</th>\n",
       "      <th>缴费最短时间间隔正向化</th>\n",
       "    </tr>\n",
       "  </thead>\n",
       "  <tbody>\n",
       "    <tr>\n",
       "      <th>0</th>\n",
       "      <td>1.0</td>\n",
       "      <td>0.588283</td>\n",
       "      <td>0.993911</td>\n",
       "      <td>0.994681</td>\n",
       "      <td>0.805556</td>\n",
       "    </tr>\n",
       "    <tr>\n",
       "      <th>1</th>\n",
       "      <td>0.8</td>\n",
       "      <td>0.189406</td>\n",
       "      <td>0.871448</td>\n",
       "      <td>0.973404</td>\n",
       "      <td>0.138889</td>\n",
       "    </tr>\n",
       "    <tr>\n",
       "      <th>2</th>\n",
       "      <td>0.8</td>\n",
       "      <td>0.743178</td>\n",
       "      <td>0.869080</td>\n",
       "      <td>0.989362</td>\n",
       "      <td>0.027778</td>\n",
       "    </tr>\n",
       "    <tr>\n",
       "      <th>3</th>\n",
       "      <td>1.0</td>\n",
       "      <td>0.294543</td>\n",
       "      <td>1.000000</td>\n",
       "      <td>0.989362</td>\n",
       "      <td>0.944444</td>\n",
       "    </tr>\n",
       "    <tr>\n",
       "      <th>4</th>\n",
       "      <td>0.8</td>\n",
       "      <td>1.000000</td>\n",
       "      <td>0.873816</td>\n",
       "      <td>0.989362</td>\n",
       "      <td>0.027778</td>\n",
       "    </tr>\n",
       "  </tbody>\n",
       "</table>\n",
       "</div>"
      ],
      "text/plain": [
       "   缴费次数     缴费总金额  平均缴费间隔正向化  缴费最长时间间隔正向化  缴费最短时间间隔正向化\n",
       "0   1.0  0.588283   0.993911     0.994681     0.805556\n",
       "1   0.8  0.189406   0.871448     0.973404     0.138889\n",
       "2   0.8  0.743178   0.869080     0.989362     0.027778\n",
       "3   1.0  0.294543   1.000000     0.989362     0.944444\n",
       "4   0.8  1.000000   0.873816     0.989362     0.027778"
      ]
     },
     "execution_count": 8,
     "metadata": {},
     "output_type": "execute_result"
    }
   ],
   "source": [
    "# 最大最小归一化\n",
    "from sklearn.preprocessing import MinMaxScaler\n",
    "\n",
    "cols = [col for col in groupby_usernumber.columns if col not in ['用户编号', '缴费总天数','缴费最长时间间隔','缴费最短时间间隔']]  # 选取特征\n",
    "\n",
    "maxmin_data = MinMaxScaler().fit_transform(groupby_usernumber[cols])\n",
    "\n",
    "# 存储到DataFrame\n",
    "maxmin_data = pd.DataFrame(maxmin_data)\n",
    "maxmin_data.columns = cols\n",
    "# 查看\n",
    "maxmin_data.head()"
   ]
  },
  {
   "cell_type": "code",
   "execution_count": 9,
   "id": "2f79a24c",
   "metadata": {
    "ExecuteTime": {
     "end_time": "2022-07-06T08:59:56.032374Z",
     "start_time": "2022-07-06T08:59:55.906273Z"
    },
    "scrolled": true
   },
   "outputs": [
    {
     "name": "stdout",
     "output_type": "stream",
     "text": [
      "各类聚类中心为：\n",
      " [[0.78235294 0.40452979 0.87217922 0.97598561 0.09844771]\n",
      " [0.91111111 0.37149991 0.93507743 0.92966903 0.81790123]\n",
      " [0.52       0.23900482 0.74751522 0.77606383 0.0625    ]\n",
      " [0.33333333 0.19448903 0.29166667 0.2322695  0.07407407]]\n",
      "各样本的类别标签为：\n",
      " [1 0 0 1 0 0 0 0 0 1 0 0 0 0 0 1 0 0 2 0 0 2 3 0 0 0 0 2 0 0 0 2 2 0 0 0 0\n",
      " 2 0 0 0 0 0 2 0 2 0 2 0 0 0 0 0 2 0 0 0 0 1 0 0 0 1 2 0 2 0 0 2 1 0 0 3 0\n",
      " 0 0 0 3 2 1 0 2 0 0 0 2 0 0 2 0 0 2 2 0 0 0 1 0 2 0]\n",
      "最终每个类别的数目为：\n",
      " 0    68\n",
      "2    20\n",
      "1     9\n",
      "3     3\n",
      "dtype: int64\n",
      "       缴费次数     缴费总金额  平均缴费间隔正向化  缴费最长时间间隔正向化  缴费最短时间间隔正向化\n",
      "0                                                         \n",
      "1  0.782353  0.404530   0.872179     0.975986     0.098448\n",
      "0  0.911111  0.371500   0.935077     0.929669     0.817901\n",
      "2  0.520000  0.239005   0.747515     0.776064     0.062500\n",
      "3  0.333333  0.194489   0.291667     0.232270     0.074074\n"
     ]
    }
   ],
   "source": [
    "from sklearn.cluster import KMeans# K-Mmeans算法\n",
    "\n",
    "k = 4   # 聚类数 \n",
    "\n",
    "# 确定聚类中心数 # 构建模型，随机种子设为123 \n",
    "# 读取标准化后的数据 \n",
    "kmeans_model = KMeans(n_clusters=k, n_jobs=4, random_state=123)\n",
    "# 模型训练\n",
    "fit_kmeans = kmeans_model.fit(maxmin_data)                \n",
    "\n",
    "# 查看聚类结果 \n",
    "# 聚类中心 \n",
    "kmeans_cc = kmeans_model.cluster_centers_ \n",
    "print('各类聚类中心为：\\n',kmeans_cc)                          \n",
    "\n",
    "# 样本的类别标签 \n",
    "kmeans_labels = kmeans_model.labels_ \n",
    "print('各样本的类别标签为：\\n',kmeans_labels) \n",
    "\n",
    "# 统计不同类别样本的数目 \n",
    "r1 = pd.Series(kmeans_model.labels_).value_counts()        \n",
    "print('最终每个类别的数目为：\\n',r1) \n",
    "\n",
    "# 输出聚类分群的结果 \n",
    "cluster_center = pd.DataFrame(kmeans_model.cluster_centers_,columns = maxmin_data.columns) \n",
    "\n",
    "# 将聚类中心放在数据框中 \n",
    "cluster_center.index = pd.DataFrame(kmeans_model.labels_ ).drop_duplicates().iloc[:,0]         \n",
    "\n",
    " # 将样本类别作为数据框索引 \n",
    "print(cluster_center)"
   ]
  },
  {
   "cell_type": "code",
   "execution_count": 10,
   "id": "bbdf837c",
   "metadata": {
    "ExecuteTime": {
     "end_time": "2022-07-06T08:59:56.652092Z",
     "start_time": "2022-07-06T08:59:56.036484Z"
    },
    "scrolled": false
   },
   "outputs": [
    {
     "data": {
      "image/png": "[encoded data removed]",
      "text/plain": [
       "<Figure size 800x800 with 1 Axes>"
      ]
     },
     "metadata": {
      "needs_background": "light"
     },
     "output_type": "display_data"
    },
    {
     "data": {
      "text/plain": [
       "<function matplotlib.pyplot.close(fig=None)>"
      ]
     },
     "execution_count": 10,
     "metadata": {},
     "output_type": "execute_result"
    }
   ],
   "source": [
    "import matplotlib.pyplot as plt \n",
    "# 客户分群雷达图\n",
    "labels = maxmin_data.columns\n",
    "# labels=['缴费次数', '缴费总金额', '平均缴费间隔正向化', '缴费最长时间间隔正向化', '缴费最短时间间隔正向化']\n",
    "legen = ['客户群' + str(i) for i in cluster_center.index]  # 客户群命名，作为雷达图的图例\n",
    "linestype = ['-','--',(0, (3, 5, 1, 5, 1, 5)),':','-.']\n",
    "kinds = list(cluster_center.iloc[:, 0])\n",
    "# 由于雷达图要保证数据闭合，因此再添加L列，并转换为 np.ndarray\n",
    "cluster_center = pd.concat([cluster_center, cluster_center[['缴费次数']]], axis=1)\n",
    "centers = np.array(cluster_center.iloc[:, 0:])\n",
    "\n",
    "# 分割圆周长，并让其闭合\n",
    "n = len(labels)\n",
    "angle = np.linspace(0, 2 * np.pi, n, endpoint=False)\n",
    "angle = np.concatenate((angle, [angle[0]]))\n",
    "labels=np.concatenate((labels,[labels[0]]))   #对labels进行封闭\n",
    "\n",
    "# 绘图\n",
    "fig = plt.figure(figsize = (8,8),dpi=100)\n",
    "ax = fig.add_subplot(111, polar=True)  # 以极坐标的形式绘制图形\n",
    "\n",
    "# 画线\n",
    "for i in range(len(kinds)):\n",
    "    ax.plot(angle, centers[i], linestyle=linestype[i], linewidth=2, label=kinds[i])\n",
    "# 添加属性标签\n",
    "ax.set_thetagrids(angle * 180 / np.pi, labels)\n",
    "plt.title('客户特征分析雷达图',fontsize=15)\n",
    "plt.legend(legen)\n",
    "plt.show()\n",
    "plt.close"
   ]
  },
  {
   "cell_type": "code",
   "execution_count": 11,
   "id": "80316411",
   "metadata": {
    "ExecuteTime": {
     "end_time": "2022-07-06T08:59:56.670075Z",
     "start_time": "2022-07-06T08:59:56.654176Z"
    }
   },
   "outputs": [
    {
     "data": {
      "text/html": [
       "<div>\n",
       "<style scoped>\n",
       "    .dataframe tbody tr th:only-of-type {\n",
       "        vertical-align: middle;\n",
       "    }\n",
       "\n",
       "    .dataframe tbody tr th {\n",
       "        vertical-align: top;\n",
       "    }\n",
       "\n",
       "    .dataframe thead th {\n",
       "        text-align: right;\n",
       "    }\n",
       "</style>\n",
       "<table border=\"1\" class=\"dataframe\">\n",
       "  <thead>\n",
       "    <tr style=\"text-align: right;\">\n",
       "      <th></th>\n",
       "      <th>用户编号</th>\n",
       "      <th>缴费次数</th>\n",
       "      <th>缴费总金额</th>\n",
       "      <th>平均缴费间隔正向化</th>\n",
       "      <th>缴费最长时间间隔正向化</th>\n",
       "      <th>缴费最短时间间隔正向化</th>\n",
       "      <th>label</th>\n",
       "    </tr>\n",
       "  </thead>\n",
       "  <tbody>\n",
       "    <tr>\n",
       "      <th>0</th>\n",
       "      <td>1000000001</td>\n",
       "      <td>1.0</td>\n",
       "      <td>0.588283</td>\n",
       "      <td>0.993911</td>\n",
       "      <td>0.994681</td>\n",
       "      <td>0.805556</td>\n",
       "      <td>1</td>\n",
       "    </tr>\n",
       "    <tr>\n",
       "      <th>1</th>\n",
       "      <td>1000000002</td>\n",
       "      <td>0.8</td>\n",
       "      <td>0.189406</td>\n",
       "      <td>0.871448</td>\n",
       "      <td>0.973404</td>\n",
       "      <td>0.138889</td>\n",
       "      <td>0</td>\n",
       "    </tr>\n",
       "    <tr>\n",
       "      <th>2</th>\n",
       "      <td>1000000003</td>\n",
       "      <td>0.8</td>\n",
       "      <td>0.743178</td>\n",
       "      <td>0.869080</td>\n",
       "      <td>0.989362</td>\n",
       "      <td>0.027778</td>\n",
       "      <td>0</td>\n",
       "    </tr>\n",
       "    <tr>\n",
       "      <th>3</th>\n",
       "      <td>1000000004</td>\n",
       "      <td>1.0</td>\n",
       "      <td>0.294543</td>\n",
       "      <td>1.000000</td>\n",
       "      <td>0.989362</td>\n",
       "      <td>0.944444</td>\n",
       "      <td>1</td>\n",
       "    </tr>\n",
       "    <tr>\n",
       "      <th>4</th>\n",
       "      <td>1000000005</td>\n",
       "      <td>0.8</td>\n",
       "      <td>1.000000</td>\n",
       "      <td>0.873816</td>\n",
       "      <td>0.989362</td>\n",
       "      <td>0.027778</td>\n",
       "      <td>0</td>\n",
       "    </tr>\n",
       "  </tbody>\n",
       "</table>\n",
       "</div>"
      ],
      "text/plain": [
       "         用户编号  缴费次数     缴费总金额  平均缴费间隔正向化  缴费最长时间间隔正向化  缴费最短时间间隔正向化  label\n",
       "0  1000000001   1.0  0.588283   0.993911     0.994681     0.805556      1\n",
       "1  1000000002   0.8  0.189406   0.871448     0.973404     0.138889      0\n",
       "2  1000000003   0.8  0.743178   0.869080     0.989362     0.027778      0\n",
       "3  1000000004   1.0  0.294543   1.000000     0.989362     0.944444      1\n",
       "4  1000000005   0.8  1.000000   0.873816     0.989362     0.027778      0"
      ]
     },
     "execution_count": 11,
     "metadata": {},
     "output_type": "execute_result"
    }
   ],
   "source": [
    "# 将聚类后的标签插入datafream\n",
    "maxmin_data.insert(loc=len(maxmin_data.columns), column='label', value=kmeans_labels)\n",
    "maxmin_data.insert(loc=0, column='用户编号', value=groupby_usernumber['用户编号'])\n",
    "\n",
    "maxmin_data.head()"
   ]
  },
  {
   "cell_type": "code",
   "execution_count": 12,
   "id": "319117fb",
   "metadata": {
    "ExecuteTime": {
     "end_time": "2022-07-06T08:59:56.694103Z",
     "start_time": "2022-07-06T08:59:56.672409Z"
    },
    "scrolled": true
   },
   "outputs": [
    {
     "data": {
      "text/html": [
       "<div>\n",
       "<style scoped>\n",
       "    .dataframe tbody tr th:only-of-type {\n",
       "        vertical-align: middle;\n",
       "    }\n",
       "\n",
       "    .dataframe tbody tr th {\n",
       "        vertical-align: top;\n",
       "    }\n",
       "\n",
       "    .dataframe thead th {\n",
       "        text-align: right;\n",
       "    }\n",
       "</style>\n",
       "<table border=\"1\" class=\"dataframe\">\n",
       "  <thead>\n",
       "    <tr style=\"text-align: right;\">\n",
       "      <th></th>\n",
       "      <th>缴费次数</th>\n",
       "      <th>缴费总金额</th>\n",
       "      <th>平均缴费间隔正向化</th>\n",
       "      <th>缴费最长时间间隔正向化</th>\n",
       "      <th>缴费最短时间间隔正向化</th>\n",
       "    </tr>\n",
       "  </thead>\n",
       "  <tbody>\n",
       "    <tr>\n",
       "      <th>0</th>\n",
       "      <td>1.0</td>\n",
       "      <td>0.588283</td>\n",
       "      <td>0.993911</td>\n",
       "      <td>0.994681</td>\n",
       "      <td>0.805556</td>\n",
       "    </tr>\n",
       "    <tr>\n",
       "      <th>3</th>\n",
       "      <td>1.0</td>\n",
       "      <td>0.294543</td>\n",
       "      <td>1.000000</td>\n",
       "      <td>0.989362</td>\n",
       "      <td>0.944444</td>\n",
       "    </tr>\n",
       "    <tr>\n",
       "      <th>9</th>\n",
       "      <td>1.0</td>\n",
       "      <td>0.416533</td>\n",
       "      <td>0.995940</td>\n",
       "      <td>0.994681</td>\n",
       "      <td>0.805556</td>\n",
       "    </tr>\n",
       "    <tr>\n",
       "      <th>15</th>\n",
       "      <td>1.0</td>\n",
       "      <td>0.425361</td>\n",
       "      <td>1.000000</td>\n",
       "      <td>0.978723</td>\n",
       "      <td>1.000000</td>\n",
       "    </tr>\n",
       "    <tr>\n",
       "      <th>58</th>\n",
       "      <td>1.0</td>\n",
       "      <td>0.390048</td>\n",
       "      <td>0.989851</td>\n",
       "      <td>0.989362</td>\n",
       "      <td>0.833333</td>\n",
       "    </tr>\n",
       "  </tbody>\n",
       "</table>\n",
       "</div>"
      ],
      "text/plain": [
       "    缴费次数     缴费总金额  平均缴费间隔正向化  缴费最长时间间隔正向化  缴费最短时间间隔正向化\n",
       "0    1.0  0.588283   0.993911     0.994681     0.805556\n",
       "3    1.0  0.294543   1.000000     0.989362     0.944444\n",
       "9    1.0  0.416533   0.995940     0.994681     0.805556\n",
       "15   1.0  0.425361   1.000000     0.978723     1.000000\n",
       "58   1.0  0.390048   0.989851     0.989362     0.833333"
      ]
     },
     "execution_count": 12,
     "metadata": {},
     "output_type": "execute_result"
    }
   ],
   "source": [
    "# 提取潜力型用户\n",
    "qianli_data = maxmin_data[maxmin_data['label']==1].iloc[:,1:-1] # 潜力用户数据\n",
    "qianli_user = maxmin_data[maxmin_data['label']==1].iloc[:,0] # 潜力用户ID\n",
    "qianli_data.head()"
   ]
  },
  {
   "cell_type": "code",
   "execution_count": 13,
   "id": "831fe666",
   "metadata": {
    "ExecuteTime": {
     "end_time": "2022-07-06T08:59:56.724044Z",
     "start_time": "2022-07-06T08:59:56.696872Z"
    },
    "scrolled": false
   },
   "outputs": [
    {
     "data": {
      "text/plain": [
       "0     1000000001\n",
       "15    1000000016\n",
       "9     1000000010\n",
       "58    1000000059\n",
       "69    1000000070\n",
       "Name: 用户编号, dtype: int64"
      ]
     },
     "execution_count": 13,
     "metadata": {},
     "output_type": "execute_result"
    }
   ],
   "source": [
    "# 熵权法赋权\n",
    "yij = qianli_data.apply(lambda x: x / x.sum(), axis=0) # 第i个用户的第j个指标值的比重yij = xij/sum(xij) i=(1,m)\n",
    "K = 1/np.log(len(qianli_data)) # 常数\n",
    "tmp = yij*np.log(yij)\n",
    "tmp=np.nan_to_num(tmp)\n",
    "ej = -K*(tmp.sum(axis=0)) # 计算第j个指标的信息熵\n",
    "wj = (1 - ej) / np.sum(1 - ej) # 计算第j个指标的权重\n",
    "score = yij.apply(lambda x: np.sum(100 * x * wj), axis=1)\n",
    "# top5 = heapq.nlargest(5,score)\n",
    "\n",
    "\n",
    "qianli_data['得分'] = pd.DataFrame(score)\n",
    "qianli_data.insert(loc=0, column='用户编号', value=qianli_user.values)\n",
    "\n",
    "result = qianli_data.sort_values(by=\"得分\",ascending=False).iloc[0:5,0]\n",
    "result #结果"
   ]
  },
  {
   "cell_type": "code",
   "execution_count": 14,
   "id": "5901b856",
   "metadata": {
    "ExecuteTime": {
     "end_time": "2022-07-06T08:59:56.734030Z",
     "start_time": "2022-07-06T08:59:56.726229Z"
    }
   },
   "outputs": [],
   "source": [
    "# 输出csv文件\n",
    "result.to_csv('outputfile/居民客户的用电缴费习惯分析 3.csv',index=False,encoding='gbk')\n"
   ]
  }
 ],
 "metadata": {
  "kernelspec": {
   "display_name": "Python 3",
   "language": "python",
   "name": "python3"
  },
  "language_info": {
   "codemirror_mode": {
    "name": "ipython",
    "version": 3
   },
   "file_extension": ".py",
   "mimetype": "text/x-python",
   "name": "python",
   "nbconvert_exporter": "python",
   "pygments_lexer": "ipython3",
   "version": "3.8.8"
  },
  "varInspector": {
   "cols": {
    "lenName": 16,
    "lenType": 16,
    "lenVar": 40
   },
   "kernels_config": {
    "python": {
     "delete_cmd_postfix": "",
     "delete_cmd_prefix": "del ",
     "library": "var_list.py",
     "varRefreshCmd": "print(var_dic_list())"
    },
    "r": {
     "delete_cmd_postfix": ") ",
     "delete_cmd_prefix": "rm(",
     "library": "var_list.r",
     "varRefreshCmd": "cat(var_dic_list()) "
    }
   },
   "types_to_exclude": [
    "module",
    "function",
    "builtin_function_or_method",
    "instance",
    "_Feature"
   ],
   "window_display": false
  }
 },
 "nbformat": 4,
 "nbformat_minor": 5
}
